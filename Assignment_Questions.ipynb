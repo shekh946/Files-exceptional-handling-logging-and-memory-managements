{
  "nbformat": 4,
  "nbformat_minor": 0,
  "metadata": {
    "colab": {
      "provenance": []
    },
    "kernelspec": {
      "name": "python3",
      "display_name": "Python 3"
    },
    "language_info": {
      "name": "python"
    }
  },
  "cells": [
    {
      "cell_type": "markdown",
      "source": [
        "##Q1. What is the difference between interpreted and compiled languages?  \n",
        "\n",
        " - Compiled and interpreted languages differ primarily in how their code is executed by a computer. These differences impact performance, development workflow, and use cases.  \n",
        " - A compiled language translates source code into machine code using a compiler. This machine code is directly executed by the computer's CPU. Examples include C, C++, and Rust. Compiled programs generally run faster because the translation happens before execution. However, they require a separate compilation step, making the development cycle slower. Additionally, compiled programs are platform-dependent, meaning the executable must be rebuilt for different systems.  \n",
        "\n",
        " - An interpreted language, on the other hand, executes code line by line using an interpreter. Examples include Python, JavaScript, and Ruby. Interpreted languages allow for faster development cycles since changes can be tested immediately without recompilation. They are platform-independent as long as an interpreter is available. However, they tend to run slower because the translation occurs during execution.   \n",
        " Some languages, like Java and Python, use hybrid approaches such as Just-In-Time (JIT) compilation or bytecode interpretation to combine the benefits of both paradigms. These methods improve performance while maintaining flexibility"
      ],
      "metadata": {
        "id": "rqMFF9yiXSbD"
      }
    },
    {
      "cell_type": "markdown",
      "source": [
        "##Q2. What is exception handling in Python?\n",
        "\n",
        " - Exception handling in Python is a mechanism to manage errors that occur during program execution. Instead of crashing, it allows the program to respond gracefully, making the code more robust and user-friendly.  \n",
        " Example:  \n",
        " try:  \n",
        "   result = 10 / 0 # This will raise a ZeroDivisionError  \n",
        "except ZeroDivisionError:  \n",
        "   print(\"Cannot divide by zero!\")  \n",
        "   #Output Cannot divide by zero!"
      ],
      "metadata": {
        "id": "aNvNJJgwXSfR"
      }
    },
    {
      "cell_type": "markdown",
      "source": [
        "##Q3.  What is the purpose of the finally block in exception handling?  \n",
        "\n",
        "  - The finally block in exception handling is a critical construct designed to ensure that specific code is executed regardless of whether an exception occurs or not. It is typically used alongside try and catch blocks to handle exceptions gracefully while guaranteeing the execution of cleanup or finalization tasks.\n",
        "\n",
        " - Guaranteed Execution: The primary purpose of the finally block is to ensure that the code within it runs under all circumstances. Whether an exception is raised, handled, or not, the finally block will execute before the program exits the try-catch construct.\n",
        "\n",
        " - Resource Cleanup: It is commonly used to release resources such as closing files, database connections, or network sockets. This prevents resource leaks and ensures proper system behavior, even in the presence of errors.\n",
        "\n",
        "- State Restoration: The finally block can be used to restore the state of objects or revert changes made during the try block. This ensures that the program remains in a consistent state after execution.\n",
        "\n",
        " - Finalization Tasks: Certain operations, such as logging or freeing temporary resources, need to be performed regardless of success or failure. The finally block is the ideal place for such tasks."
      ],
      "metadata": {
        "id": "2m2ERC2hXSli"
      }
    },
    {
      "cell_type": "markdown",
      "source": [
        "##Q4. What is logging in Python?  \n",
        "\n",
        " - Logging in Python is a built-in mechanism for tracking events during the execution of a program. It is essential for debugging, monitoring, and maintaining software. The logging module provides a flexible framework to log messages at different severity levels, such as DEBUG, INFO, WARNING, ERROR, and CRITICAL."
      ],
      "metadata": {
        "id": "zUQpAT26XSu5"
      }
    },
    {
      "cell_type": "markdown",
      "source": [
        "##Q5. What is the significance of the __del__ method in Python?  \n",
        "\n",
        " - The __del__ method in Python is a special or \"magic\" method, also known as a destructor. It is automatically invoked when an object is about to be destroyed, typically when its reference count drops to zero. This method is useful for performing cleanup tasks such as releasing external resources like file handles, network connections, or database connections."
      ],
      "metadata": {
        "id": "21LS3jhlXSy4"
      }
    },
    {
      "cell_type": "markdown",
      "source": [
        "##Q6. What is the difference between import and from ... import in Python?\n",
        "\n",
        " - In Python, importing modules is a fundamental way to reuse code and access functionalities provided by external libraries. There are two primary ways to import modules: import and from import. Understanding the differences between these two methods is crucial for writing clean and efficient code.\n",
        "\n",
        " - import Statement  \n",
        " The import statement is used to import an entire module into your current namespace. This means that you can access all the functions, classes, and variables defined in the module, but you need to prefix them with the module name. This approach keeps your code organized and makes it clear where each function or class comes from.  \n",
        "Example:   \n",
        "import math  \n",
        "result = math.sqrt(16)  \n",
        "print(result)  \n",
        "\n",
        " - from import Statement  \n",
        " The from import statement allows you to import specific attributes or functions from a module directly into your current namespace. This means you can use them without the module name prefix. This approach can make your code cleaner and more readable, especially if you only need a few specific items from a module.  \n",
        " Example:  \n",
        " from math import sqrt  \n",
        " result = sqrt(16)  \n",
        " print(result)"
      ],
      "metadata": {
        "id": "XDYzDaiIXS2i"
      }
    },
    {
      "cell_type": "markdown",
      "source": [
        "##Q7. How can you handle multiple exceptions in Python?  \n",
        "\n",
        " - To handle multiple exceptions like ValueError, ZeroDivisionError, and FileNotFoundError in Python, you can use a try-except block. Below is an example program demonstrating how to catch these exceptions effectively.  \n",
        " def handle_exceptions():  \n",
        "   try:  \n",
        "       # Simulate ValueError  \n",
        "       num = int(input(\"Enter a number: \"))  \n",
        "       # Simulate ZeroDivisionError  \n",
        "       result = 10 / num  \n",
        "       print(f\"Result: {result}\")\n",
        "       # Simulate FileNotFoundError  \n",
        "       with open(\"nonexistent_file.txt\", \"r\") as file:  \n",
        "           content = file.read()  \n",
        "           print(content)  \n",
        "   except ValueError:  \n",
        "       print(\"Caught a ValueError: Please enter a valid integer.\")  \n",
        "   except ZeroDivisionError:  \n",
        "       print(\"Caught a ZeroDivisionError: Division by zero is not allowed.\")  \n",
        "   except FileNotFoundError:  \n",
        "       print(\"Caught a FileNotFoundError: The specified file does not exist.\")  # Run the function   \n",
        "       handle_exceptions()"
      ],
      "metadata": {
        "id": "OQ7B-Xt5XS8M"
      }
    },
    {
      "cell_type": "markdown",
      "source": [
        "##Q8. What is the purpose of the with statement when handling files in Python?  \n",
        "\n",
        " - The with statement in Python is used to wrap the execution of a block of code within methods defined by a context manager. When handling files, it ensures that the file is automatically closed after its suite finishes execution—even if an error occurs.  \n",
        " The Purpose of the with Statement in Python:    \n",
        " The with statement in Python is primarily used to simplify resource management, especially when working with files. Its purpose is to ensure that resources like file handles are properly managed and released, even if an error occurs during execution.  \n",
        "Automatic Cleanup: The with statement automatically closes the file after the block of code is executed, eliminating the need to explicitly call file.close(). This reduces the risk of resource leaks.  \n",
        "Error Handling: If an exception occurs within the with block, the file is still properly closed, ensuring robust error handling.  \n",
        "Cleaner Code: It replaces the traditional try-finally structure, making the code more concise and readable.\n"
      ],
      "metadata": {
        "id": "4wLDoizVXS_u"
      }
    },
    {
      "cell_type": "markdown",
      "source": [
        "##Q9.  What is the difference between multithreading and multiprocessing?  \n",
        "\n",
        " - Multiprocessing is a system that has more than one or two processors. In Multiprocessing, CPUs are added to increase the computing speed of the system. Because of Multiprocessing, There are many processes are executed simultaneously.\n",
        " 1. In Multiprocessing, every process owned a separate address space.  \n",
        " 2. In Multiprocessing, Many processes are executed simultaneously.  \n",
        " 3. In Multiprocessing, Process creation is a time-consuming process.\n",
        " 4. Multiprocessing are classified into Symmetric and Asymmetric.\n",
        "\n",
        "-  Multithreading is a system in which multiple threads are created of a process for increasing the computing speed of the system. In multithreading, many threads of a process are executed simultaneously and process creation in multithreading is done according to economical.  \n",
        "1. Multithreading, a common address space is shared by all the threads.  \n",
        "2. Multithreading, many threads of a process are executed simultaneously.  \n",
        "3. Multithreading, process creation is according to economical.  \n",
        "4. Multithreading is not classified in any categories."
      ],
      "metadata": {
        "id": "lvGtVNgvXTCg"
      }
    },
    {
      "cell_type": "markdown",
      "source": [
        "##Q10.  What are the advantages of using logging in a program?\n",
        "\n",
        " - Logging in programming refers to the process of recording information about the execution of a program. This information can include details about errors, warnings, or general program behavior, and is essential for debugging, monitoring, and maintaining applications.  \n",
        "  The advantages of using logging in a program include:  \n",
        "  Debugging: Helps identify and diagnose issues by capturing relevant information during program execution.  \n",
        "  Monitoring: Provides insights into the application's behavior and performance.  \n",
        "  Auditing: Keeps a record of important events and actions for security purposes.  \n",
        "  Troubleshooting: Facilitates tracking of program flow and variable values to understand unexpected behavior.  \n",
        "  Performance Optimization: Assists in optimizing performance by analyzing logs to identify bottlenecks.  \n",
        "  Logging is an essential tool that enhances the overall quality and maintainability of software applications."
      ],
      "metadata": {
        "id": "TAoFUi5PXTGJ"
      }
    },
    {
      "cell_type": "markdown",
      "source": [
        "##Q11.  What is memory management in Python?  \n",
        "\n",
        " - Memory management in Python is handled automatically, making it easier for developers to focus on writing code without worrying about manual allocation and deallocation. Python uses reference counting and garbage collection to manage memory efficiently."
      ],
      "metadata": {
        "id": "8UnMJ579XTKJ"
      }
    },
    {
      "cell_type": "markdown",
      "source": [
        "##Q12. What are the basic steps involved in exception handling in Python?  \n",
        "\n",
        " - Exception handling in Python is a mechanism to manage errors that occur during program execution. Instead of crashing, it allows the program to respond gracefully, making the code more robust and user-friendly.  \n",
        " 1. try block: Contains code that might raise an exception.  \n",
        " 2. except block: Handles specific or general exceptions.  \n",
        " 3. else block: Executes if no exception occurs in the try block.  \n",
        " 4. finally block: Executes regardless of whether an exception occurred, often used for cleanup operations."
      ],
      "metadata": {
        "id": "KhIt8oPCXTM5"
      }
    },
    {
      "cell_type": "markdown",
      "source": [
        "##Q13. Why is memory management important in Python?  \n",
        "\n",
        "- Memory management in Python is handled automatically, making it easier for developers to focus on writing code without worrying about manual allocation and deallocation. Python uses reference counting and garbage collection to manage memory efficiently.\n",
        "\n",
        " - Reference Counting:  \n",
        " Every object in Python maintains a reference count, which tracks how many variables or references point to it. When a new reference is created, the count increases, and when a reference is deleted or goes out of scope, the count decreases. If the reference count drops to zero, the object is automatically deallocated.  \n",
        "\n",
        " - Garbage Collection:  \n",
        " Python's garbage collector handles objects that are no longer in use, especially those involved in circular references. For instance, if two objects reference each other but are no longer accessible, the garbage collector identifies and removes them to free memory."
      ],
      "metadata": {
        "id": "VM7TnweFXTPd"
      }
    },
    {
      "cell_type": "markdown",
      "source": [
        "##Q14. What is the role of try and except in exception handling?  \n",
        "\n",
        " - In Python, the try and except blocks are fundamental tools for exception handling, allowing developers to manage runtime errors gracefully without crashing the program. They ensure that errors are caught and handled appropriately, enabling the program to continue execution or terminate in a controlled manner.  \n",
        " The try block contains the code that might raise an exception. If an exception occurs during the execution of this block, Python immediately stops executing the try block and jumps to the corresponding except block. The except block defines how to handle specific exceptions or a general error."
      ],
      "metadata": {
        "id": "GT5jYD_4XTT7"
      }
    },
    {
      "cell_type": "markdown",
      "source": [
        "##Q15. How does Python's garbage collection system work?  \n",
        "\n",
        " - Garbage collection in Python is a built-in mechanism that automatically manages memory by reclaiming unused objects, ensuring efficient memory utilization and preventing memory leaks. It works alongside Python's reference counting system to handle memory deallocation, especially in cases involving cyclic references.  \n",
        " - Garbage Collection system Works:  \n",
        " Python employs two primary strategies for memory management: reference counting and generational garbage collection.  \n",
        " 1. Reference Counting: Each object in Python maintains a reference count, which tracks how many references point to it. When the reference count drops to zero, the object is immediately deallocated. However, reference counting alone cannot handle cyclic references, where objects reference each other in a loop, preventing their reference counts from reaching zero.  \n",
        " 2. Generational Garbage Collection: To address cyclic references, Python uses a generational garbage collector. Objects are categorized into three generations based on their lifespan: Generation 0: Newly created objects. Generation 1: Objects that survived one collection cycle. Generation 2: Long-lived objects. The garbage collector prioritizes younger generations for frequent collection, as they are more likely to become unused quickly^2^."
      ],
      "metadata": {
        "id": "5-0Xv0oWXTWv"
      }
    },
    {
      "cell_type": "markdown",
      "source": [
        "##Q16.  What is the purpose of the else block in exception handling?  \n",
        "\n",
        "  - The else block in exception handling is executed only if the try block completes successfully without raising any exceptions, allowing for cleaner and more organized code.  \n",
        "\n",
        " - Understanding the Else Block:  \n",
        " In Python, the else block is part of the exception handling mechanism that works alongside the try and except blocks. Its primary purpose is to define a section of code that should run only when the try block does not raise any exceptions. This helps in separating the normal execution flow from the error handling flow, enhancing code readability and maintainability."
      ],
      "metadata": {
        "id": "fPNxV-rbkMIT"
      }
    },
    {
      "cell_type": "markdown",
      "source": [
        "##Q17.  What are the common logging levels in Python?  \n",
        "\n",
        " - Logging is an essential practice for tracking events that occur during the execution of a program. It helps developers understand the flow of their code, debug errors, and analyze performance. Python provides a built-in logging module that allows you to record log messages with different severity levels and direct them to various destinations such as the console, files, or external systems.\n",
        " Logging is a powerful tool for monitoring and debugging your applications. By using Python’s logging module, you can easily record log messages with different severity levels, direct them to various destinations, and customize the format to suit your needs. Whether you are working on a small script or a large application, logging can help you gain valuable insights into your code’s behavior."
      ],
      "metadata": {
        "id": "nTnEJikmkML4"
      }
    },
    {
      "cell_type": "markdown",
      "source": [
        "##Q18.  What is the difference between os.fork() and multiprocessing in Python?  \n",
        "\n",
        "  - os.fork() and multiprocessing in Python are both used for creating new processes, but they differ significantly in terms of functionality, portability, and use cases. Here's a concise comparison:\n",
        "\n",
        "1. os.fork()   \n",
        "Definition: A low-level system call that creates a child process by duplicating the parent process.  \n",
        "Platform Support: Only available on Unix-based systems (e.g., Linux, macOS). Not supported on Windows.  \n",
        "Memory Sharing: The child process inherits a snapshot of the parent process's memory. However, changes made in the child process do not affect the parent process.  \n",
        "Use Case: Suitable for fine-grained control over process creation and management in low-level programming.  \n",
        "Complexity: Requires manual handling of inter-process communication (IPC) and synchronization, which can be challenging.\n",
        "2. multiprocessing Module  \n",
        "Definition: A high-level Python module designed for creating and managing processes easily.\n",
        "Platform Support: Cross-platform (works on Unix, macOS, and Windows).  \n",
        "Memory Sharing: Processes do not share memory by default. Instead, it provides tools like Queue, Pipe, and Manager for inter-process communication and data sharing.  \n",
        "Use Case: Ideal for general-purpose parallel processing, where ease of use and portability are important.  \n",
        "Complexity: Simplifies process management and IPC, making it more beginner-friendly."
      ],
      "metadata": {
        "id": "jxTQ5TXzkMO0"
      }
    },
    {
      "cell_type": "markdown",
      "source": [
        "##Q19. What is the importance of closing a file in Python?\n",
        "\n",
        " - To properly close a file in Python, you can use the close() method or the with statement. Closing a file ensures that system resources are released and data integrity is maintained.  \n",
        " Using close(): Always call close() after performing operations on a file to avoid resource leaks.  \n",
        " Using with: This is the preferred method as it automatically closes the file, even if an exception occurs."
      ],
      "metadata": {
        "id": "g0e-s0GfkMRi"
      }
    },
    {
      "cell_type": "markdown",
      "source": [
        "##Q20. What is the difference between file.read() and file.readline() in Python?  \n",
        "\n",
        " - file.read(): Reads the entire file and returns it as a single string.  \n",
        " Reads the entire file as one big string.  \n",
        " When you want all content at once.\n",
        "\n",
        "\n",
        "- file.readlines(): Reads the entire file and returns it as a list of strings, where each element of the list is a single line of the file.  \n",
        "Reads only one line at a time (up to \\n).  \n",
        "When processing line-by-line.\n"
      ],
      "metadata": {
        "id": "T2irRf_QkMT3"
      }
    },
    {
      "cell_type": "markdown",
      "source": [
        "##Q21. What is the logging module in Python used for?\n",
        "\n",
        " - The logging module provides a flexible framework for emitting log messages from Python programs. It’s used to record messages at different severity levels and optionally save them to files, display them on the console, or send them elsewhere.  \n",
        " - Debugging: Track down bugs by logging variable values, flow, and errors.\n",
        "- Monitoring: Keep a record of what your application is doing.\n",
        "- Error Reporting: Log exceptions and warnings without crashing the program.\n",
        "- File Logging: Save logs to a file for later review.\n",
        "Example:  \n",
        "import logging  \n",
        "logging.basicConfig(level=logging.INFO)  \n",
        "logging.info(\"Program started\")  \n",
        "logging.warning(\"Low disk space\")  \n",
        "logging.error(\"File not found\")\n"
      ],
      "metadata": {
        "id": "2xeJzSERkMx2"
      }
    },
    {
      "cell_type": "markdown",
      "source": [
        "##Q22. What is the os module in Python used for in file handling?  \n",
        "\n",
        " - The os module provides a way to use operating system-dependent functionality like reading or writing to the file system, navigating directories, checking file existence, and more.  \n",
        " - File Handling Capabilities:\n",
        " os.remove('file.txt') - Delete a file  \n",
        " os.rename('old.txt','new.txt') - Rename a file  \n",
        " os.path.exists('file.txt') - Check the file or folder exists  \n",
        " os.listdir('folder/') - Lists all files and folders in a directory  \n",
        " os.mkdir('new_folder') - Creates a new directory   \n",
        " os.rmdir('folder') - Removes an empty directory\n",
        "\n",
        "\n",
        "\n"
      ],
      "metadata": {
        "id": "SaX3nQJNkM1T"
      }
    },
    {
      "cell_type": "markdown",
      "source": [
        "##Q23. What are the challenges associated with memory management in Python?  \n",
        "\n",
        "  - Python's memory management is largely automated, thanks to features like garbage collection and reference counting. However, this automation introduces several challenges, especially in scenarios requiring high performance or real-time processing.  \n",
        "  1. Memory Leaks:  Memory leaks occur when objects are no longer needed but are not released due to lingering references. This can lead to excessive memory consumption over time, especially in long-running applications. For example, circular references, where two or more objects reference each other, can prevent garbage collection from reclaiming memory.  \n",
        "  2. Fragmentation:  Memory fragmentation happens when memory blocks become scattered due to frequent allocation and deallocation. This can make it difficult to allocate large contiguous memory blocks, reducing efficiency. Fragmentation is particularly problematic in applications requiring consistent memory performance.  \n",
        "  3. Garbage Collection Overhead:  Python's garbage collector, while efficient, can introduce performance overhead. In real-time applications, the unpredictable nature of garbage collection pauses can disrupt time-sensitive operations. Managing this overhead requires careful tuning of the garbage collector or manual intervention.  \n",
        "  4. Inefficient Data Structures: Using memory-intensive data structures can exacerbate memory issues. For instance, lists and dictionaries, while versatile, may consume more memory than necessary. Choosing inappropriate data structures can lead to excessive memory usage.  \n",
        "  5. Lack of Manual Control: Python abstracts memory management, limiting developers' ability to manually allocate or deallocate memory. While this simplifies development, it can be a drawback in scenarios requiring fine-grained control over memory usage"
      ],
      "metadata": {
        "id": "dRQeTCT_kM6W"
      }
    },
    {
      "cell_type": "markdown",
      "source": [
        "##Q24. How do you raise an exception manually in Python?  \n",
        "\n",
        " - In Python, you can force an error when a specific condition is met using the raise keyword. This is useful for signaling invalid states or enforcing constraints in your code.  \n",
        " def check_positive(number):  \n",
        "   if number <= 0:  \n",
        "       raise ValueError(\"The number must be positive!\")  \n",
        "   return f\"{number} is a valid positive number.\"  \n",
        "try:  \n",
        "   print(check_positive(-5)) # This will raise an error  \n",
        "except ValueError as e:  \n",
        "   print(f\"Error: {e}\")  "
      ],
      "metadata": {
        "id": "WdTVm3WWkM9i"
      }
    },
    {
      "cell_type": "markdown",
      "source": [
        "##Q25. Why is it important to use multithreading in certain applications?  \n",
        "\n",
        " - Multithreading is a programming concept that allows an application to execute multiple threads concurrently within a single process. Threads are lightweight units of execution that share the same memory space, enabling efficient resource utilization and parallel task execution.\n",
        "\n",
        " - Key Features of Multithreading\n",
        "\n",
        "1. Concurrency: Multithreading enables multiple tasks to run simultaneously, improving application responsiveness. For example, in a word processor, one thread can handle user input while another checks spelling or saves backups.\n",
        "\n",
        "2. Resource Sharing: Threads within the same process share memory and resources, reducing overhead compared to creating separate processes.\n",
        "\n",
        "3. Performance: On multi-core processors, threads can run in parallel, leveraging all available CPU cores for faster execution.\n",
        "\n",
        "4. Responsiveness: Applications remain interactive even during lengthy operations. For instance, a web browser can load a video in one thread while allowing user interaction in another."
      ],
      "metadata": {
        "id": "oZ0NOCUckNAb"
      }
    },
    {
      "cell_type": "code",
      "source": [
        "# Q1.  How can you open a file for writing in Python and write a string to it?\n",
        "'''\n",
        "with open('example.txt', 'w') as file:\n",
        "    # Write a string to the file\n",
        "    file.write(\"Hello, Shekh! This is your Python file.\")\n",
        "    '''"
      ],
      "metadata": {
        "colab": {
          "base_uri": "https://localhost:8080/",
          "height": 35
        },
        "id": "LqJtPwVw1Zfa",
        "outputId": "5e1859fb-e600-4d29-f4a6-7e89100e5654"
      },
      "execution_count": 1,
      "outputs": [
        {
          "output_type": "execute_result",
          "data": {
            "text/plain": [
              "'\\nwith open(\\'example.txt\\', \\'w\\') as file:\\n    # Write a string to the file\\n    file.write(\"Hello, Shekh! This is your Python file.\")\\n    '"
            ],
            "application/vnd.google.colaboratory.intrinsic+json": {
              "type": "string"
            }
          },
          "metadata": {},
          "execution_count": 1
        }
      ]
    },
    {
      "cell_type": "code",
      "source": [
        "# Q2.  Write a Python program to read the contents of a file and print each line?\n",
        "'''\n",
        "# Open the file in read mode\n",
        "with open('example.txt', 'r') as file:\n",
        "    # Loop through each line in the file\n",
        "    for line in file:\n",
        "        print(line.strip())  # strip() removes leading/trailing whitespace\n",
        "\n",
        "'''"
      ],
      "metadata": {
        "id": "BSpd7pvH1ZuH"
      },
      "execution_count": null,
      "outputs": []
    },
    {
      "cell_type": "code",
      "source": [
        "# Q3. How would you handle a case where the file doesn't exist while trying to open it for reading?\n",
        "'''\n",
        "filename = 'example.txt'\n",
        "\n",
        "try:\n",
        "    with open(filename, 'r') as file:\n",
        "        for line in file:\n",
        "            print(line.strip())\n",
        "except FileNotFoundError:\n",
        "    print(f\"Error: The file '{filename}' does not exist.\")\n",
        "'''"
      ],
      "metadata": {
        "id": "bOsY_cD41aAQ"
      },
      "execution_count": null,
      "outputs": []
    },
    {
      "cell_type": "code",
      "source": [
        "# Q4. Write a Python script that reads from one file and writes its content to another file?\n",
        "'''\n",
        "# Define source and destination file names\n",
        "source_file = 'source.txt'\n",
        "destination_file = 'destination.txt'\n",
        "\n",
        "try:\n",
        "    # Open the source file in read mode\n",
        "    with open(source_file, 'r') as src:\n",
        "        content = src.read()  # Read entire content\n",
        "\n",
        "    # Open the destination file in write mode\n",
        "    with open(destination_file, 'w') as dest:\n",
        "        dest.write(content)  # Write content to destination\n",
        "\n",
        "    print(\"File copied successfully!\")\n",
        "\n",
        "except FileNotFoundError:\n",
        "    print(f\"Error: '{source_file}' not found.\")\n",
        "except Exception as e:\n",
        "    print(f\"An unexpected error occurred: {e}\")\n",
        "    '''"
      ],
      "metadata": {
        "id": "QFWHLAkx1aNf"
      },
      "execution_count": null,
      "outputs": []
    },
    {
      "cell_type": "code",
      "source": [
        "# Q5.  How would you catch and handle division by zero error in Python?\n",
        "'''\n",
        "try:\n",
        "    numerator = 10\n",
        "    denominator = 0\n",
        "    result = numerator / denominator\n",
        "    print(\"Result:\", result)\n",
        "except ZeroDivisionError:\n",
        "    print(\"Error: Cannot divide by zero.\")\n",
        "    '''"
      ],
      "metadata": {
        "id": "nOP7lG-o1abH"
      },
      "execution_count": null,
      "outputs": []
    },
    {
      "cell_type": "code",
      "source": [
        "# Q6. Write a Python program that logs an error message to a log file when a division by zero exception occurs.\n",
        "'''\n",
        "import logging\n",
        "\n",
        "# Configure logging to write to a file\n",
        "logging.basicConfig(\n",
        "    filename='error_log.txt',       # Log file name\n",
        "    level=logging.ERROR,            # Log only errors and above\n",
        "    format='%(asctime)s - %(levelname)s - %(message)s'  # Log format\n",
        ")\n",
        "\n",
        "# Example division operation\n",
        "try:\n",
        "    numerator = 10\n",
        "    denominator = 0\n",
        "    result = numerator / denominator\n",
        "    print(\"Result:\", result)\n",
        "\n",
        "except ZeroDivisionError as e:\n",
        "    logging.error(\"Division by zero occurred: %s\", e)\n",
        "    print(\"Error: Cannot divide by zero. Check 'error_log.txt' for details.\")\n",
        "\n",
        "    '''"
      ],
      "metadata": {
        "id": "u5L2hEMR1aoC"
      },
      "execution_count": null,
      "outputs": []
    },
    {
      "cell_type": "code",
      "source": [
        "# Q7.  How do you log information at different levels (INFO, ERROR, WARNING) in Python using the logging module?\n",
        "'''\n",
        "import logging\n",
        "\n",
        "# Configure logging\n",
        "logging.basicConfig(\n",
        "    filename='app.log',              # Log file name\n",
        "    level=logging.DEBUG,             # Minimum level to capture\n",
        "    format='%(asctime)s - %(levelname)s - %(message)s'\n",
        ")\n",
        "\n",
        "# Log messages at different levels\n",
        "logging.info(\"This is an INFO message.\")\n",
        "logging.warning(\"This is a WARNING message.\")\n",
        "logging.error(\"This is an ERROR message.\")\n",
        "'''\n"
      ],
      "metadata": {
        "id": "LKCs_uCZ1a2K"
      },
      "execution_count": null,
      "outputs": []
    },
    {
      "cell_type": "code",
      "source": [
        "# Q8. Write a program to handle a file opening error using exception handling?\n",
        "'''\n",
        "filename = 'data.txt'\n",
        "\n",
        "try:\n",
        "    with open(filename, 'r') as file:\n",
        "        content = file.read()\n",
        "        print(\"File content:\\n\", content)\n",
        "\n",
        "except FileNotFoundError:\n",
        "    print(f\"Error: The file '{filename}' was not found.\")\n",
        "\n",
        "except PermissionError:\n",
        "    print(f\"Error: You don't have permission to access '{filename}'.\")\n",
        "\n",
        "except Exception as e:\n",
        "    print(f\"An unexpected error occurred: {e}\")\n",
        "'''"
      ],
      "metadata": {
        "id": "PSg2R0w71bFK"
      },
      "execution_count": null,
      "outputs": []
    },
    {
      "cell_type": "code",
      "source": [
        "# Q9.  How can you read a file line by line and store its content in a list in Python?\n",
        "'''\n",
        "filename = 'example.txt'\n",
        "\n",
        "try:\n",
        "    with open(filename, 'r') as file:\n",
        "        lines = file.readlines()  # Reads all lines into a list\n",
        "        print(\"File content as list:\")\n",
        "        print(lines)\n",
        "\n",
        "except FileNotFoundError:\n",
        "    print(f\"Error: The file '{filename}' was not found.\")\n",
        "'''"
      ],
      "metadata": {
        "id": "5PmfJBMO1bSY"
      },
      "execution_count": null,
      "outputs": []
    },
    {
      "cell_type": "code",
      "source": [
        "# Q10. How can you append data to an existing file in Python?\n",
        "'''\n",
        "# Open the file in append mode\n",
        "with open('example.txt', 'a') as file:\n",
        "    file.write(\"This line will be added at the end.\\n\")\n",
        "'''"
      ],
      "metadata": {
        "id": "3-mNjM5M1beF"
      },
      "execution_count": null,
      "outputs": []
    },
    {
      "cell_type": "code",
      "source": [
        "# Q11. Write a Python program that uses a try-except block to handle an error when attempting to access a\n",
        "# dictionary key that doesn't exist?\n",
        "'''\n",
        "# Sample dictionary\n",
        "student_scores = {\n",
        "    'Alice': 85,\n",
        "    'Bob': 92,\n",
        "    'Charlie': 78\n",
        "}\n",
        "\n",
        "# Key to access\n",
        "key_to_lookup = 'David'\n",
        "\n",
        "try:\n",
        "    # Attempt to access the key\n",
        "    score = student_scores[key_to_lookup]\n",
        "    print(f\"{key_to_lookup}'s score is {score}\")\n",
        "except KeyError:\n",
        "    print(f\"Error: '{key_to_lookup}' not found in the dictionary.\")\n",
        "'''"
      ],
      "metadata": {
        "id": "ygMwPkKh1bq_"
      },
      "execution_count": null,
      "outputs": []
    },
    {
      "cell_type": "code",
      "source": [
        "# Q12. Write a program that demonstrates using multiple except blocks to handle different types of exceptions?\n",
        "'''\n",
        "try:\n",
        "    # Trigger different types of errors\n",
        "    number = int(\"abc\")              # ValueError\n",
        "    result = 10 / 0                  # ZeroDivisionError\n",
        "    data = {'name': 'Shekh'}\n",
        "    print(data['age'])              # KeyError\n",
        "\n",
        "except ValueError:\n",
        "    print(\"Error: Invalid value. Could not convert to integer.\")\n",
        "\n",
        "except ZeroDivisionError:\n",
        "    print(\"Error: Division by zero is not allowed.\")\n",
        "\n",
        "except KeyError:\n",
        "    print(\"Error: Key not found in the dictionary.\")\n",
        "\n",
        "except Exception as e:\n",
        "    print(f\"Unexpected error occurred: {e}\")\n",
        "\n",
        "'''"
      ],
      "metadata": {
        "id": "-6BH-fzm1b6m"
      },
      "execution_count": null,
      "outputs": []
    },
    {
      "cell_type": "code",
      "source": [
        "# Q13. How would you check if a file exists before attempting to read it in Python?\n",
        "'''\n",
        "import os\n",
        "\n",
        "filename = 'example.txt'\n",
        "\n",
        "if os.path.exists(filename):\n",
        "    with open(filename, 'r') as file:\n",
        "        content = file.read()\n",
        "        print(\"File content:\\n\", content)\n",
        "else:\n",
        "    print(f\"Error: The file '{filename}' does not exist.\")\n",
        "'''\n",
        "\n"
      ],
      "metadata": {
        "id": "Y18ekiBK6h3e"
      },
      "execution_count": null,
      "outputs": []
    },
    {
      "cell_type": "code",
      "source": [
        "# Q14. Write a program that uses the logging module to log both informational and error messages?\n",
        "'''\n",
        "import logging\n",
        "\n",
        "# Configure logging\n",
        "logging.basicConfig(\n",
        "    filename='app_log.txt',           # Log file name\n",
        "    level=logging.DEBUG,              # Capture all levels from DEBUG upward\n",
        "    format='%(asctime)s - %(levelname)s - %(message)s'\n",
        ")\n",
        "\n",
        "# Log an informational message\n",
        "logging.info(\"Program started successfully.\")\n",
        "\n",
        "try:\n",
        "    # Simulate a task\n",
        "    value = 10 / 0  # This will raise ZeroDivisionError\n",
        "except ZeroDivisionError as e:\n",
        "    logging.error(\"Division by zero error occurred: %s\", e)\n",
        "\n",
        "# Log another informational message\n",
        "logging.info(\"Program completed with error handling.\")\n",
        "'''"
      ],
      "metadata": {
        "id": "BP3fopBf6h51"
      },
      "execution_count": null,
      "outputs": []
    },
    {
      "cell_type": "code",
      "source": [
        "# Q15. Write a Python program that prints the content of a file and handles the case when the file is empty?\n",
        "'''\n",
        "filename = 'example.txt'\n",
        "\n",
        "try:\n",
        "    with open(filename, 'r') as file:\n",
        "        content = file.read()\n",
        "        if content.strip():  # Check if content is not just whitespace\n",
        "            print(\"File content:\\n\", content)\n",
        "        else:\n",
        "            print(f\"The file '{filename}' is empty.\")\n",
        "except FileNotFoundError:\n",
        "    print(f\"Error: The file '{filename}' was not found.\")\n",
        "except Exception as e:\n",
        "    print(f\"An unexpected error occurred: {e}\")\n",
        "  '''"
      ],
      "metadata": {
        "id": "xeSXaEBq6h8E"
      },
      "execution_count": null,
      "outputs": []
    },
    {
      "cell_type": "code",
      "source": [
        "# Q16. Demonstrate how to use memory profiling to check the memory usage of a small program?\n",
        "'''\n",
        "# memory_demo.py\n",
        "\n",
        "from memory_profiler import profile\n",
        "\n",
        "@profile\n",
        "def create_large_list():\n",
        "    data = [x * 2 for x in range(1000000)]  # 1 million items\n",
        "    return data\n",
        "\n",
        "if __name__ == \"__main__\":\n",
        "    create_large_list()\n",
        "  '''"
      ],
      "metadata": {
        "id": "jiH2-fYl6iA1"
      },
      "execution_count": null,
      "outputs": []
    },
    {
      "cell_type": "code",
      "source": [
        "# Q17. Write a Python program to create and write a list of numbers to a file, one number per line?\n",
        "'''\n",
        "# List of numbers\n",
        "numbers = [1, 2, 3, 4, 5, 6, 7, 8, 9, 10]\n",
        "\n",
        "# Open the file in write mode\n",
        "with open('numbers.txt', 'w') as file:\n",
        "    for number in numbers:\n",
        "        file.write(f\"{number}\\n\")  # Write each number followed by a newline\n",
        "'''"
      ],
      "metadata": {
        "id": "L0Y3b9H16iGe"
      },
      "execution_count": null,
      "outputs": []
    },
    {
      "cell_type": "code",
      "source": [
        "# Q18. How would you implement a basic logging setup that logs to a file with rotation after 1MB?\n",
        "'''\n",
        "import logging\n",
        "from logging.handlers import RotatingFileHandler\n",
        "\n",
        "# Create a rotating file handler\n",
        "log_handler = RotatingFileHandler(\n",
        "    filename='app.log',       # Log file name\n",
        "    maxBytes=1_000_000,       # Rotate after 1MB\n",
        "    backupCount=3             # Keep up to 3 backup files\n",
        ")\n",
        "\n",
        "# Set log format\n",
        "formatter = logging.Formatter('%(asctime)s - %(levelname)s - %(message)s')\n",
        "log_handler.setFormatter(formatter)\n",
        "\n",
        "# Set up the logger\n",
        "logger = logging.getLogger('MyLogger')\n",
        "logger.setLevel(logging.DEBUG)         # Capture all levels\n",
        "logger.addHandler(log_handler)\n",
        "\n",
        "# Example log messages\n",
        "logger.info(\"This is an informational message.\")\n",
        "logger.error(\"This is an error message.\")\n",
        "'''"
      ],
      "metadata": {
        "id": "i2YzBX4f6iO2"
      },
      "execution_count": null,
      "outputs": []
    },
    {
      "cell_type": "code",
      "source": [
        "# Q19. Write a program that handles both IndexError and KeyError using a try-except block?\n",
        "'''\n",
        "# Sample list and dictionary\n",
        "my_list = [10, 20, 30]\n",
        "my_dict = {'name': 'Shekh', 'age': 25}\n",
        "\n",
        "try:\n",
        "    # Trigger IndexError\n",
        "    print(\"List item:\", my_list[5])  # Index 5 doesn't exist\n",
        "\n",
        "    # Trigger KeyError\n",
        "    print(\"City:\", my_dict['city'])  # 'city' key doesn't exist\n",
        "\n",
        "except IndexError:\n",
        "    print(\"Error: List index out of range.\")\n",
        "\n",
        "except KeyError:\n",
        "    print(\"Error: Key not found in the dictionary.\")\n",
        "\n",
        "except Exception as e:\n",
        "    print(f\"Unexpected error occurred: {e}\")\n",
        "'''"
      ],
      "metadata": {
        "id": "rCcSa9CB6iRG"
      },
      "execution_count": null,
      "outputs": []
    },
    {
      "cell_type": "code",
      "source": [
        "# Q20. How would you open a file and read its contents using a context manager in Python?\n",
        "'''\n",
        "# Open and read a file using a context manager\n",
        "with open('example.txt', 'r') as file:\n",
        "    content = file.read()\n",
        "    print(\"File content:\\n\", content)\n",
        "'''"
      ],
      "metadata": {
        "id": "GeQI5qcw6iTf"
      },
      "execution_count": null,
      "outputs": []
    },
    {
      "cell_type": "code",
      "source": [
        "# Q21. Write a Python program that reads a file and prints the number of occurrences of a specific word?\n",
        "'''\n",
        "# Define the file name and the word to search\n",
        "filename = 'example.txt'\n",
        "target_word = 'python'\n",
        "\n",
        "try:\n",
        "    with open(filename, 'r') as file:\n",
        "        content = file.read().lower()  # Convert to lowercase for case-insensitive match\n",
        "        word_count = content.split().count(target_word.lower())\n",
        "        print(f\"The word '{target_word}' occurred {word_count} times in '{filename}'.\")\n",
        "\n",
        "except FileNotFoundError:\n",
        "    print(f\"Error: The file '{filename}' was not found.\")\n",
        "except Exception as e:\n",
        "    print(f\"An unexpected error occurred: {e}\")\n",
        "'''\n"
      ],
      "metadata": {
        "id": "gdq8Tst96iVv"
      },
      "execution_count": null,
      "outputs": []
    },
    {
      "cell_type": "code",
      "source": [
        "# Q22. How can you check if a file is empty before attempting to read its contents?\n",
        "'''\n",
        "import os\n",
        "\n",
        "filename = 'example.txt'\n",
        "\n",
        "if os.path.exists(filename):\n",
        "    if os.path.getsize(filename) == 0:\n",
        "        print(f\"The file '{filename}' is empty.\")\n",
        "    else:\n",
        "        with open(filename, 'r') as file:\n",
        "            content = file.read()\n",
        "            print(\"File content:\\n\", content)\n",
        "else:\n",
        "    print(f\"Error: The file '{filename}' does not exist.\")\n",
        "  '''\n",
        ""
      ],
      "metadata": {
        "id": "szH_zYW76iYN"
      },
      "execution_count": null,
      "outputs": []
    },
    {
      "cell_type": "code",
      "source": [
        "# Q23. Write a Python program that writes to a log file when an error occurs during file handling.\n",
        "'''\n",
        "import logging\n",
        "\n",
        "# Configure logging to write errors to a file\n",
        "logging.basicConfig(\n",
        "    filename='file_errors.log',\n",
        "    level=logging.ERROR,\n",
        "    format='%(asctime)s - %(levelname)s - %(message)s'\n",
        ")\n",
        "\n",
        "filename = 'data.txt'\n",
        "\n",
        "try:\n",
        "    with open(filename, 'r') as file:\n",
        "        content = file.read()\n",
        "        print(\"File content:\\n\", content)\n",
        "\n",
        "except FileNotFoundError as e:\n",
        "    logging.error(\"File not found: %s\", e)\n",
        "    print(f\"Error: The file '{filename}' was not found. Check 'file_errors.log' for details.\")\n",
        "\n",
        "except PermissionError as e:\n",
        "    logging.error(\"Permission denied: %s\", e)\n",
        "    print(f\"Error: Permission denied for '{filename}'. Check 'file_errors.log' for details.\")\n",
        "\n",
        "except Exception as e:\n",
        "    logging.error(\"Unexpected error: %s\", e)\n",
        "    print(f\"An unexpected error occurred. Check 'file_errors.log' for details.\")\n",
        "'''"
      ],
      "metadata": {
        "id": "nreIsi3e6iam"
      },
      "execution_count": null,
      "outputs": []
    },
    {
      "cell_type": "code",
      "source": [],
      "metadata": {
        "id": "H8M-hitp6ifI"
      },
      "execution_count": null,
      "outputs": []
    },
    {
      "cell_type": "code",
      "source": [],
      "metadata": {
        "id": "_UcLBoMJ6ihl"
      },
      "execution_count": null,
      "outputs": []
    }
  ]
}